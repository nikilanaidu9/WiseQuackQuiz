{
 "cells": [
  {
   "cell_type": "code",
   "execution_count": 3,
   "metadata": {},
   "outputs": [
    {
     "name": "stdout",
     "output_type": "stream",
     "text": [
      "Welcome to Wise Quacks..!\n",
      "Are you interested playing in Wise Quacks? yes\n",
      "Congrats! Youre are one step forward\n",
      " Turtle module is used in python to create Graphics yes\n",
      "Correct!\n",
      " Guido Van Rossum developed Python Programming Language no\n",
      "Incorrect!\n",
      "Key is used to define a block of code in Python language no\n",
      "Correct!\n",
      "\"Fun\" is used for function in Python language no\n",
      "Correct!\n",
      "Python supports the creation of anonymous functions at runtime, using a construct called___ Lambda\n",
      "Correct!\n",
      "Great, You rocked! \n",
      "Your score is: 4\n",
      "You got: 80.0%\n"
     ]
    }
   ],
   "source": [
    "print(\"Welcome to Wise Quacks..!\")\n",
    "\n",
    "WQ = input('Are you interested playing in Wise Quacks? ')\n",
    "   \n",
    "if WQ.lower() == 'yes':\n",
    "    print('Congrats! Youre are one step forward')\n",
    "elif WQ.lower()!= 'yes':\n",
    "    sys.exit()\n",
    "    \n",
    "score = 0\n",
    "    \n",
    "ans = input(' Turtle module is used in python to create Graphics ')\n",
    "if ans.lower()=='yes':\n",
    "    print('Correct!')\n",
    "    score += 1\n",
    "else:\n",
    "    print('Incorrect!')\n",
    "        \n",
    "ans = input(' Guido Van Rossum developed Python Programming Language ')\n",
    "if ans.lower()=='yes':\n",
    "    print('Correct!')\n",
    "    score += 1\n",
    "else:\n",
    "    print('Incorrect!')\n",
    "        \n",
    "ans = input('Key is used to define a block of code in Python language ')\n",
    "if ans.lower()=='no':\n",
    "    print('Correct!')\n",
    "    score += 1\n",
    "else:\n",
    "    print('Incorrect!')\n",
    "        \n",
    "ans = input('\"Fun\" is used for function in Python language ')\n",
    "if ans.lower()=='no':\n",
    "    print('Correct!')\n",
    "    score += 1\n",
    "else:\n",
    "    print('Incorrect!')\n",
    "        \n",
    "ans = input('Python supports the creation of anonymous functions at runtime, using a construct called___ ')\n",
    "if ans.lower()=='lambda':\n",
    "    print('Correct!')\n",
    "    score += 1\n",
    "else:\n",
    "    print('Incorrect!')\n",
    "if score>=4:\n",
    "    print('Great, You rocked! ','Your score is: ' + str(score), sep='\\n')\n",
    "    print('You got: ' +str((score/5)*100) +'%')\n",
    "elif score==3:\n",
    "    print(\"Good, need to practice\",'Your score is: ' + str(score), sep='\\n')\n",
    "    print('You got: ' +str((score/5)*100) +'%')\n",
    "else:\n",
    "    print(\"Better luck next time\",'Your score is: ' + str(score), sep='\\n')\n",
    "    print('You got: ' +str((score/5)*100) +'%')"
   ]
  },
  {
   "cell_type": "code",
   "execution_count": null,
   "metadata": {},
   "outputs": [],
   "source": [
    "for i in range(1,21):\n",
    "    \n",
    "    print(i)"
   ]
  },
  {
   "cell_type": "code",
   "execution_count": null,
   "metadata": {},
   "outputs": [],
   "source": []
  }
 ],
 "metadata": {
  "kernelspec": {
   "display_name": "Python 3",
   "language": "python",
   "name": "python3"
  },
  "language_info": {
   "codemirror_mode": {
    "name": "ipython",
    "version": 3
   },
   "file_extension": ".py",
   "mimetype": "text/x-python",
   "name": "python",
   "nbconvert_exporter": "python",
   "pygments_lexer": "ipython3",
   "version": "3.7.4"
  }
 },
 "nbformat": 4,
 "nbformat_minor": 2
}
